{
 "cells": [
  {
   "cell_type": "markdown",
   "id": "19952170-7064-4661-87d2-3589a445a3ca",
   "metadata": {},
   "source": [
    "# 1 Business Understanding\n",
    "\n",
    "### 1.1 Problem Overview\n",
    "\n",
    "Customer churn is the act of customers discontinuing their relationship with a company.It represents a major challenge for telecommunications businesses. Acquiring new customers is significantly more expensive than retaining existing ones, and high churn rates directly impact revenue, profitability, and brand perception.\n",
    "\n",
    "In the increasingly competitive telecom industry, companies must proactively identify customers at risk of churning and take steps to retain them. Traditional retention efforts, such as blanket discount offers or mass outreach, are often inefficient and costly. A data-driven, predictive approach offers a more effective solution.\n",
    "\n",
    "### 1.2 Business Objective\n",
    "\n",
    "This project aims to develop a machine learning classification model to **predict whether a customer is likely to churn**, based on their historical and behavioral data. By identifying at-risk customers before they churn, the business can:\n",
    "\n",
    "- Reduce customer acquisition costs by improving retention\n",
    "- Optimize marketing and customer service interventions\n",
    "- Personalize offers to customers who show warning signs\n",
    "- Understand key drivers of churn for long-term strategic planning\n",
    "\n",
    "### 1.3 Stakeholders\n",
    "\n",
    "The primary stakeholders for this project include:\n",
    "\n",
    "- **Customer Retention Team:** Needs early warnings to take preventive actions (e.g., loyalty offers).\n",
    "- **Marketing Team:** Can use model insights to target at-risk segments with personalized campaigns.\n",
    "- **Product Managers:** Gain insights on which service features drive churn to improve user experience.\n",
    "- **Senior Leadership:** Interested in revenue retention and strategic decision-making based on customer behavior.\n",
    "\n",
    "### 1.4 Success Criteria\n",
    "\n",
    "The model will be considered successful if it can:\n",
    "\n",
    "- Accurately classify customers as likely to churn or not (using precision, recall, and F1-score).\n",
    "- Provide interpretable results that highlight the most influential features.\n",
    "- Enable actionable recommendations to reduce churn.\n",
    "\n",
    "Ultimately, this project supports data-driven decision-making and cost-effective customer engagement in a highly competitive market.\n"
   ]
  },
  {
   "cell_type": "markdown",
   "id": "f6db7ab3-f295-4860-b812-f1a7b1ac04ea",
   "metadata": {},
   "source": [
    "# 2. Data Understanding\n",
    "\n",
    "### Dataset Overview\n",
    "\n",
    "The dataset used in this project is from **SyriaTel**, a telecommunications company. It contains customer demographic, behavioral, and account-related features. The target variable is Churn indicating whether a customer has left the service.\n",
    "\n",
    "- **Type**: Tabular\n",
    "- **Target variable**: Churn (Binary: 1 = Churned, 0 = Retained)\n",
    "- **Rows**: [Insert number of records]\n",
    "- **Columns**: [Insert number of features]\n",
    "- **Format**: CSV\n",
    "\n",
    "## Key Features\n",
    "\n",
    "The features fall into the following categories:\n",
    "\n",
    "- **Demographics**: gender, SeniorCitizen, Partner, Dependents\n",
    "- **Service Features**: PhoneService, MultipleLines, InternetService, OnlineSecurity, OnlineBackup, DeviceProtection, TechSupport,StreamingTV, StreamingMovies\n",
    "- **Account Information**: tenure, Contract, PaperlessBilling, PaymentMethod, MonthlyCharges, TotalCharges\n",
    "- **Target Variable**: Churn\n",
    "\n",
    "## Data Types\n",
    "\n",
    "- **Numerical**: tenure, MonthlyCharges, TotalCharges, SeniorCitizen\n",
    "- **Categorical**: Contract, InternetService, PaymentMethod, etc.\n",
    "- **Boolean** (Yes/No): Several columns may be encoded as strings and will need encoding.\n",
    "- **Target**: Churn (Binary)\n",
    "\n",
    "## First Look at the Data\n",
    "\n",
    "Before modeling, we will:\n",
    "\n",
    "- Inspect data types and basic statistics\n",
    "- Check for missing or malformed data\n",
    "- Understand value distributions\n",
    "- Identify categorical and numerical features\n",
    "- Explore class imbalance in the target variable\n",
    "\n",
    "This exploration helps us determine preprocessing strategies such as encoding, scaling, or imputation.\n",
    "\n",
    "## Why This Step Matters\n",
    "\n",
    "Understanding your dataset is essential for:\n",
    "\n",
    "- **Avoiding data leakage**\n",
    "- **Choosing the right model and metrics**\n",
    "- **Improving interpretability**\n",
    "- **Avoiding common pitfalls like inconsistent data types, unexpected nulls, or mislabeled targets**\n"
   ]
  },
  {
   "cell_type": "markdown",
   "id": "fce3cb8b-6734-4d98-90fe-41adcb2d7c4f",
   "metadata": {},
   "source": [
    "\n",
    "### 2.1 Load the Dataset\n",
    "We begin by importing necessary libraries and loading the CSV file from the project’s data/ directory."
   ]
  },
  {
   "cell_type": "code",
   "execution_count": 102,
   "id": "277c9264-312d-4f16-960d-a2e2090474e8",
   "metadata": {},
   "outputs": [
    {
     "name": "stdout",
     "output_type": "stream",
     "text": [
      "Dataset shape: (3333, 21)\n"
     ]
    },
    {
     "data": {
      "text/html": [
       "<div>\n",
       "<style scoped>\n",
       "    .dataframe tbody tr th:only-of-type {\n",
       "        vertical-align: middle;\n",
       "    }\n",
       "\n",
       "    .dataframe tbody tr th {\n",
       "        vertical-align: top;\n",
       "    }\n",
       "\n",
       "    .dataframe thead th {\n",
       "        text-align: right;\n",
       "    }\n",
       "</style>\n",
       "<table border=\"1\" class=\"dataframe\">\n",
       "  <thead>\n",
       "    <tr style=\"text-align: right;\">\n",
       "      <th></th>\n",
       "      <th>state</th>\n",
       "      <th>account length</th>\n",
       "      <th>area code</th>\n",
       "      <th>phone number</th>\n",
       "      <th>international plan</th>\n",
       "      <th>voice mail plan</th>\n",
       "      <th>number vmail messages</th>\n",
       "      <th>total day minutes</th>\n",
       "      <th>total day calls</th>\n",
       "      <th>total day charge</th>\n",
       "      <th>...</th>\n",
       "      <th>total eve calls</th>\n",
       "      <th>total eve charge</th>\n",
       "      <th>total night minutes</th>\n",
       "      <th>total night calls</th>\n",
       "      <th>total night charge</th>\n",
       "      <th>total intl minutes</th>\n",
       "      <th>total intl calls</th>\n",
       "      <th>total intl charge</th>\n",
       "      <th>customer service calls</th>\n",
       "      <th>churn</th>\n",
       "    </tr>\n",
       "  </thead>\n",
       "  <tbody>\n",
       "    <tr>\n",
       "      <th>0</th>\n",
       "      <td>KS</td>\n",
       "      <td>128</td>\n",
       "      <td>415</td>\n",
       "      <td>382-4657</td>\n",
       "      <td>no</td>\n",
       "      <td>yes</td>\n",
       "      <td>25</td>\n",
       "      <td>265.1</td>\n",
       "      <td>110</td>\n",
       "      <td>45.07</td>\n",
       "      <td>...</td>\n",
       "      <td>99</td>\n",
       "      <td>16.78</td>\n",
       "      <td>244.7</td>\n",
       "      <td>91</td>\n",
       "      <td>11.01</td>\n",
       "      <td>10.0</td>\n",
       "      <td>3</td>\n",
       "      <td>2.70</td>\n",
       "      <td>1</td>\n",
       "      <td>False</td>\n",
       "    </tr>\n",
       "    <tr>\n",
       "      <th>1</th>\n",
       "      <td>OH</td>\n",
       "      <td>107</td>\n",
       "      <td>415</td>\n",
       "      <td>371-7191</td>\n",
       "      <td>no</td>\n",
       "      <td>yes</td>\n",
       "      <td>26</td>\n",
       "      <td>161.6</td>\n",
       "      <td>123</td>\n",
       "      <td>27.47</td>\n",
       "      <td>...</td>\n",
       "      <td>103</td>\n",
       "      <td>16.62</td>\n",
       "      <td>254.4</td>\n",
       "      <td>103</td>\n",
       "      <td>11.45</td>\n",
       "      <td>13.7</td>\n",
       "      <td>3</td>\n",
       "      <td>3.70</td>\n",
       "      <td>1</td>\n",
       "      <td>False</td>\n",
       "    </tr>\n",
       "    <tr>\n",
       "      <th>2</th>\n",
       "      <td>NJ</td>\n",
       "      <td>137</td>\n",
       "      <td>415</td>\n",
       "      <td>358-1921</td>\n",
       "      <td>no</td>\n",
       "      <td>no</td>\n",
       "      <td>0</td>\n",
       "      <td>243.4</td>\n",
       "      <td>114</td>\n",
       "      <td>41.38</td>\n",
       "      <td>...</td>\n",
       "      <td>110</td>\n",
       "      <td>10.30</td>\n",
       "      <td>162.6</td>\n",
       "      <td>104</td>\n",
       "      <td>7.32</td>\n",
       "      <td>12.2</td>\n",
       "      <td>5</td>\n",
       "      <td>3.29</td>\n",
       "      <td>0</td>\n",
       "      <td>False</td>\n",
       "    </tr>\n",
       "    <tr>\n",
       "      <th>3</th>\n",
       "      <td>OH</td>\n",
       "      <td>84</td>\n",
       "      <td>408</td>\n",
       "      <td>375-9999</td>\n",
       "      <td>yes</td>\n",
       "      <td>no</td>\n",
       "      <td>0</td>\n",
       "      <td>299.4</td>\n",
       "      <td>71</td>\n",
       "      <td>50.90</td>\n",
       "      <td>...</td>\n",
       "      <td>88</td>\n",
       "      <td>5.26</td>\n",
       "      <td>196.9</td>\n",
       "      <td>89</td>\n",
       "      <td>8.86</td>\n",
       "      <td>6.6</td>\n",
       "      <td>7</td>\n",
       "      <td>1.78</td>\n",
       "      <td>2</td>\n",
       "      <td>False</td>\n",
       "    </tr>\n",
       "    <tr>\n",
       "      <th>4</th>\n",
       "      <td>OK</td>\n",
       "      <td>75</td>\n",
       "      <td>415</td>\n",
       "      <td>330-6626</td>\n",
       "      <td>yes</td>\n",
       "      <td>no</td>\n",
       "      <td>0</td>\n",
       "      <td>166.7</td>\n",
       "      <td>113</td>\n",
       "      <td>28.34</td>\n",
       "      <td>...</td>\n",
       "      <td>122</td>\n",
       "      <td>12.61</td>\n",
       "      <td>186.9</td>\n",
       "      <td>121</td>\n",
       "      <td>8.41</td>\n",
       "      <td>10.1</td>\n",
       "      <td>3</td>\n",
       "      <td>2.73</td>\n",
       "      <td>3</td>\n",
       "      <td>False</td>\n",
       "    </tr>\n",
       "  </tbody>\n",
       "</table>\n",
       "<p>5 rows × 21 columns</p>\n",
       "</div>"
      ],
      "text/plain": [
       "  state  account length  area code phone number international plan  \\\n",
       "0    KS             128        415     382-4657                 no   \n",
       "1    OH             107        415     371-7191                 no   \n",
       "2    NJ             137        415     358-1921                 no   \n",
       "3    OH              84        408     375-9999                yes   \n",
       "4    OK              75        415     330-6626                yes   \n",
       "\n",
       "  voice mail plan  number vmail messages  total day minutes  total day calls  \\\n",
       "0             yes                     25              265.1              110   \n",
       "1             yes                     26              161.6              123   \n",
       "2              no                      0              243.4              114   \n",
       "3              no                      0              299.4               71   \n",
       "4              no                      0              166.7              113   \n",
       "\n",
       "   total day charge  ...  total eve calls  total eve charge  \\\n",
       "0             45.07  ...               99             16.78   \n",
       "1             27.47  ...              103             16.62   \n",
       "2             41.38  ...              110             10.30   \n",
       "3             50.90  ...               88              5.26   \n",
       "4             28.34  ...              122             12.61   \n",
       "\n",
       "   total night minutes  total night calls  total night charge  \\\n",
       "0                244.7                 91               11.01   \n",
       "1                254.4                103               11.45   \n",
       "2                162.6                104                7.32   \n",
       "3                196.9                 89                8.86   \n",
       "4                186.9                121                8.41   \n",
       "\n",
       "   total intl minutes  total intl calls  total intl charge  \\\n",
       "0                10.0                 3               2.70   \n",
       "1                13.7                 3               3.70   \n",
       "2                12.2                 5               3.29   \n",
       "3                 6.6                 7               1.78   \n",
       "4                10.1                 3               2.73   \n",
       "\n",
       "   customer service calls  churn  \n",
       "0                       1  False  \n",
       "1                       1  False  \n",
       "2                       0  False  \n",
       "3                       2  False  \n",
       "4                       3  False  \n",
       "\n",
       "[5 rows x 21 columns]"
      ]
     },
     "execution_count": 102,
     "metadata": {},
     "output_type": "execute_result"
    }
   ],
   "source": [
    "# Import necessary libraries\n",
    "import pandas as pd\n",
    "import numpy as np\n",
    "import matplotlib.pyplot as plt\n",
    "from sklearn.preprocessing import LabelEncoder\n",
    "import seaborn as sns\n",
    "\n",
    "# Load the dataset\n",
    "df = pd.read_csv(\"../data/bigml_59c28831336c6604c800002a.csv\")\n",
    "\n",
    "# Display the shape and the first few rows\n",
    "print(\"Dataset shape:\", df.shape)\n",
    "df.head()\n"
   ]
  },
  {
   "cell_type": "markdown",
   "id": "4bcdcf51-340b-4f4b-b6da-dd7043795bf0",
   "metadata": {},
   "source": [
    "### 2.2 Explore Dataset Structure\n",
    "Let’s take a first look at the structure, data types, and summary of values."
   ]
  },
  {
   "cell_type": "code",
   "execution_count": 103,
   "id": "70c14035-ece1-475a-88f6-926d9ae52c8e",
   "metadata": {},
   "outputs": [
    {
     "name": "stdout",
     "output_type": "stream",
     "text": [
      "<class 'pandas.core.frame.DataFrame'>\n",
      "RangeIndex: 3333 entries, 0 to 3332\n",
      "Data columns (total 21 columns):\n",
      " #   Column                  Non-Null Count  Dtype  \n",
      "---  ------                  --------------  -----  \n",
      " 0   state                   3333 non-null   object \n",
      " 1   account length          3333 non-null   int64  \n",
      " 2   area code               3333 non-null   int64  \n",
      " 3   phone number            3333 non-null   object \n",
      " 4   international plan      3333 non-null   object \n",
      " 5   voice mail plan         3333 non-null   object \n",
      " 6   number vmail messages   3333 non-null   int64  \n",
      " 7   total day minutes       3333 non-null   float64\n",
      " 8   total day calls         3333 non-null   int64  \n",
      " 9   total day charge        3333 non-null   float64\n",
      " 10  total eve minutes       3333 non-null   float64\n",
      " 11  total eve calls         3333 non-null   int64  \n",
      " 12  total eve charge        3333 non-null   float64\n",
      " 13  total night minutes     3333 non-null   float64\n",
      " 14  total night calls       3333 non-null   int64  \n",
      " 15  total night charge      3333 non-null   float64\n",
      " 16  total intl minutes      3333 non-null   float64\n",
      " 17  total intl calls        3333 non-null   int64  \n",
      " 18  total intl charge       3333 non-null   float64\n",
      " 19  customer service calls  3333 non-null   int64  \n",
      " 20  churn                   3333 non-null   bool   \n",
      "dtypes: bool(1), float64(8), int64(8), object(4)\n",
      "memory usage: 524.2+ KB\n"
     ]
    }
   ],
   "source": [
    "# Basic info\n",
    "df.info()"
   ]
  },
  {
   "cell_type": "code",
   "execution_count": 104,
   "id": "8b7a8d1a-cf48-455a-835e-a9caacb4375d",
   "metadata": {},
   "outputs": [
    {
     "data": {
      "text/plain": [
       "state                     0\n",
       "account length            0\n",
       "area code                 0\n",
       "phone number              0\n",
       "international plan        0\n",
       "voice mail plan           0\n",
       "number vmail messages     0\n",
       "total day minutes         0\n",
       "total day calls           0\n",
       "total day charge          0\n",
       "total eve minutes         0\n",
       "total eve calls           0\n",
       "total eve charge          0\n",
       "total night minutes       0\n",
       "total night calls         0\n",
       "total night charge        0\n",
       "total intl minutes        0\n",
       "total intl calls          0\n",
       "total intl charge         0\n",
       "customer service calls    0\n",
       "churn                     0\n",
       "dtype: int64"
      ]
     },
     "execution_count": 104,
     "metadata": {},
     "output_type": "execute_result"
    }
   ],
   "source": [
    "# Check for missing values\n",
    "df.isnull().sum()"
   ]
  },
  {
   "cell_type": "markdown",
   "id": "2fd5a1f5-f5ee-4df7-afcd-a88270683d78",
   "metadata": {},
   "source": [
    "### 2.3 Summary Statistic"
   ]
  },
  {
   "cell_type": "code",
   "execution_count": 105,
   "id": "e60b2ff2-dafc-4231-8ab5-6e893fefde96",
   "metadata": {},
   "outputs": [
    {
     "data": {
      "text/html": [
       "<div>\n",
       "<style scoped>\n",
       "    .dataframe tbody tr th:only-of-type {\n",
       "        vertical-align: middle;\n",
       "    }\n",
       "\n",
       "    .dataframe tbody tr th {\n",
       "        vertical-align: top;\n",
       "    }\n",
       "\n",
       "    .dataframe thead th {\n",
       "        text-align: right;\n",
       "    }\n",
       "</style>\n",
       "<table border=\"1\" class=\"dataframe\">\n",
       "  <thead>\n",
       "    <tr style=\"text-align: right;\">\n",
       "      <th></th>\n",
       "      <th>account length</th>\n",
       "      <th>area code</th>\n",
       "      <th>number vmail messages</th>\n",
       "      <th>total day minutes</th>\n",
       "      <th>total day calls</th>\n",
       "      <th>total day charge</th>\n",
       "      <th>total eve minutes</th>\n",
       "      <th>total eve calls</th>\n",
       "      <th>total eve charge</th>\n",
       "      <th>total night minutes</th>\n",
       "      <th>total night calls</th>\n",
       "      <th>total night charge</th>\n",
       "      <th>total intl minutes</th>\n",
       "      <th>total intl calls</th>\n",
       "      <th>total intl charge</th>\n",
       "      <th>customer service calls</th>\n",
       "    </tr>\n",
       "  </thead>\n",
       "  <tbody>\n",
       "    <tr>\n",
       "      <th>count</th>\n",
       "      <td>3333.000000</td>\n",
       "      <td>3333.000000</td>\n",
       "      <td>3333.000000</td>\n",
       "      <td>3333.000000</td>\n",
       "      <td>3333.000000</td>\n",
       "      <td>3333.000000</td>\n",
       "      <td>3333.000000</td>\n",
       "      <td>3333.000000</td>\n",
       "      <td>3333.000000</td>\n",
       "      <td>3333.000000</td>\n",
       "      <td>3333.000000</td>\n",
       "      <td>3333.000000</td>\n",
       "      <td>3333.000000</td>\n",
       "      <td>3333.000000</td>\n",
       "      <td>3333.000000</td>\n",
       "      <td>3333.000000</td>\n",
       "    </tr>\n",
       "    <tr>\n",
       "      <th>mean</th>\n",
       "      <td>101.064806</td>\n",
       "      <td>437.182418</td>\n",
       "      <td>8.099010</td>\n",
       "      <td>179.775098</td>\n",
       "      <td>100.435644</td>\n",
       "      <td>30.562307</td>\n",
       "      <td>200.980348</td>\n",
       "      <td>100.114311</td>\n",
       "      <td>17.083540</td>\n",
       "      <td>200.872037</td>\n",
       "      <td>100.107711</td>\n",
       "      <td>9.039325</td>\n",
       "      <td>10.237294</td>\n",
       "      <td>4.479448</td>\n",
       "      <td>2.764581</td>\n",
       "      <td>1.562856</td>\n",
       "    </tr>\n",
       "    <tr>\n",
       "      <th>std</th>\n",
       "      <td>39.822106</td>\n",
       "      <td>42.371290</td>\n",
       "      <td>13.688365</td>\n",
       "      <td>54.467389</td>\n",
       "      <td>20.069084</td>\n",
       "      <td>9.259435</td>\n",
       "      <td>50.713844</td>\n",
       "      <td>19.922625</td>\n",
       "      <td>4.310668</td>\n",
       "      <td>50.573847</td>\n",
       "      <td>19.568609</td>\n",
       "      <td>2.275873</td>\n",
       "      <td>2.791840</td>\n",
       "      <td>2.461214</td>\n",
       "      <td>0.753773</td>\n",
       "      <td>1.315491</td>\n",
       "    </tr>\n",
       "    <tr>\n",
       "      <th>min</th>\n",
       "      <td>1.000000</td>\n",
       "      <td>408.000000</td>\n",
       "      <td>0.000000</td>\n",
       "      <td>0.000000</td>\n",
       "      <td>0.000000</td>\n",
       "      <td>0.000000</td>\n",
       "      <td>0.000000</td>\n",
       "      <td>0.000000</td>\n",
       "      <td>0.000000</td>\n",
       "      <td>23.200000</td>\n",
       "      <td>33.000000</td>\n",
       "      <td>1.040000</td>\n",
       "      <td>0.000000</td>\n",
       "      <td>0.000000</td>\n",
       "      <td>0.000000</td>\n",
       "      <td>0.000000</td>\n",
       "    </tr>\n",
       "    <tr>\n",
       "      <th>25%</th>\n",
       "      <td>74.000000</td>\n",
       "      <td>408.000000</td>\n",
       "      <td>0.000000</td>\n",
       "      <td>143.700000</td>\n",
       "      <td>87.000000</td>\n",
       "      <td>24.430000</td>\n",
       "      <td>166.600000</td>\n",
       "      <td>87.000000</td>\n",
       "      <td>14.160000</td>\n",
       "      <td>167.000000</td>\n",
       "      <td>87.000000</td>\n",
       "      <td>7.520000</td>\n",
       "      <td>8.500000</td>\n",
       "      <td>3.000000</td>\n",
       "      <td>2.300000</td>\n",
       "      <td>1.000000</td>\n",
       "    </tr>\n",
       "    <tr>\n",
       "      <th>50%</th>\n",
       "      <td>101.000000</td>\n",
       "      <td>415.000000</td>\n",
       "      <td>0.000000</td>\n",
       "      <td>179.400000</td>\n",
       "      <td>101.000000</td>\n",
       "      <td>30.500000</td>\n",
       "      <td>201.400000</td>\n",
       "      <td>100.000000</td>\n",
       "      <td>17.120000</td>\n",
       "      <td>201.200000</td>\n",
       "      <td>100.000000</td>\n",
       "      <td>9.050000</td>\n",
       "      <td>10.300000</td>\n",
       "      <td>4.000000</td>\n",
       "      <td>2.780000</td>\n",
       "      <td>1.000000</td>\n",
       "    </tr>\n",
       "    <tr>\n",
       "      <th>75%</th>\n",
       "      <td>127.000000</td>\n",
       "      <td>510.000000</td>\n",
       "      <td>20.000000</td>\n",
       "      <td>216.400000</td>\n",
       "      <td>114.000000</td>\n",
       "      <td>36.790000</td>\n",
       "      <td>235.300000</td>\n",
       "      <td>114.000000</td>\n",
       "      <td>20.000000</td>\n",
       "      <td>235.300000</td>\n",
       "      <td>113.000000</td>\n",
       "      <td>10.590000</td>\n",
       "      <td>12.100000</td>\n",
       "      <td>6.000000</td>\n",
       "      <td>3.270000</td>\n",
       "      <td>2.000000</td>\n",
       "    </tr>\n",
       "    <tr>\n",
       "      <th>max</th>\n",
       "      <td>243.000000</td>\n",
       "      <td>510.000000</td>\n",
       "      <td>51.000000</td>\n",
       "      <td>350.800000</td>\n",
       "      <td>165.000000</td>\n",
       "      <td>59.640000</td>\n",
       "      <td>363.700000</td>\n",
       "      <td>170.000000</td>\n",
       "      <td>30.910000</td>\n",
       "      <td>395.000000</td>\n",
       "      <td>175.000000</td>\n",
       "      <td>17.770000</td>\n",
       "      <td>20.000000</td>\n",
       "      <td>20.000000</td>\n",
       "      <td>5.400000</td>\n",
       "      <td>9.000000</td>\n",
       "    </tr>\n",
       "  </tbody>\n",
       "</table>\n",
       "</div>"
      ],
      "text/plain": [
       "       account length    area code  number vmail messages  total day minutes  \\\n",
       "count     3333.000000  3333.000000            3333.000000        3333.000000   \n",
       "mean       101.064806   437.182418               8.099010         179.775098   \n",
       "std         39.822106    42.371290              13.688365          54.467389   \n",
       "min          1.000000   408.000000               0.000000           0.000000   \n",
       "25%         74.000000   408.000000               0.000000         143.700000   \n",
       "50%        101.000000   415.000000               0.000000         179.400000   \n",
       "75%        127.000000   510.000000              20.000000         216.400000   \n",
       "max        243.000000   510.000000              51.000000         350.800000   \n",
       "\n",
       "       total day calls  total day charge  total eve minutes  total eve calls  \\\n",
       "count      3333.000000       3333.000000        3333.000000      3333.000000   \n",
       "mean        100.435644         30.562307         200.980348       100.114311   \n",
       "std          20.069084          9.259435          50.713844        19.922625   \n",
       "min           0.000000          0.000000           0.000000         0.000000   \n",
       "25%          87.000000         24.430000         166.600000        87.000000   \n",
       "50%         101.000000         30.500000         201.400000       100.000000   \n",
       "75%         114.000000         36.790000         235.300000       114.000000   \n",
       "max         165.000000         59.640000         363.700000       170.000000   \n",
       "\n",
       "       total eve charge  total night minutes  total night calls  \\\n",
       "count       3333.000000          3333.000000        3333.000000   \n",
       "mean          17.083540           200.872037         100.107711   \n",
       "std            4.310668            50.573847          19.568609   \n",
       "min            0.000000            23.200000          33.000000   \n",
       "25%           14.160000           167.000000          87.000000   \n",
       "50%           17.120000           201.200000         100.000000   \n",
       "75%           20.000000           235.300000         113.000000   \n",
       "max           30.910000           395.000000         175.000000   \n",
       "\n",
       "       total night charge  total intl minutes  total intl calls  \\\n",
       "count         3333.000000         3333.000000       3333.000000   \n",
       "mean             9.039325           10.237294          4.479448   \n",
       "std              2.275873            2.791840          2.461214   \n",
       "min              1.040000            0.000000          0.000000   \n",
       "25%              7.520000            8.500000          3.000000   \n",
       "50%              9.050000           10.300000          4.000000   \n",
       "75%             10.590000           12.100000          6.000000   \n",
       "max             17.770000           20.000000         20.000000   \n",
       "\n",
       "       total intl charge  customer service calls  \n",
       "count        3333.000000             3333.000000  \n",
       "mean            2.764581                1.562856  \n",
       "std             0.753773                1.315491  \n",
       "min             0.000000                0.000000  \n",
       "25%             2.300000                1.000000  \n",
       "50%             2.780000                1.000000  \n",
       "75%             3.270000                2.000000  \n",
       "max             5.400000                9.000000  "
      ]
     },
     "execution_count": 105,
     "metadata": {},
     "output_type": "execute_result"
    }
   ],
   "source": [
    "# Summary statistics\n",
    "df.describe()"
   ]
  },
  {
   "cell_type": "markdown",
   "id": "eeae5629-72c7-459c-b2a1-187c0985744e",
   "metadata": {},
   "source": [
    "## 3 Data Cleaning\n",
    "###  3.1 Data Cleaning Strategy\n",
    "\n",
    "To ensure high-quality analysis, the dataset will undergo several cleaning steps:\n",
    "\n",
    "- **Remove Irrelevant Columns**  \n",
    "  Drop any features that do not contribute meaningfully to churn prediction (e.g., unique IDs or redundant fields).\n",
    "\n",
    "- **Handle Duplicates**  \n",
    "  Check for and remove duplicate records to maintain data integrity.\n",
    "\n",
    "- **Manage Missing Values**  \n",
    "  Identify missing entries and apply suitable techniques—such as imputation or row removal—based on context and feature importance.\n",
    "\n",
    "- **Convert Data Types**  \n",
    "  Ensure all columns have appropriate datatypes (e.g., numerical, categorical) to streamline analysis and modeling.\n",
    "\n",
    "Clean data forms the foundation for reliable modeling and actionable insights."
   ]
  },
  {
   "cell_type": "markdown",
   "id": "121d5047-3be1-44ad-b17d-8d1f8de324eb",
   "metadata": {},
   "source": [
    "### 3.2 Standardize Column Names"
   ]
  },
  {
   "cell_type": "code",
   "execution_count": 106,
   "id": "2753db79-efea-48c3-b11d-e8c733f380bd",
   "metadata": {},
   "outputs": [
    {
     "name": "stdout",
     "output_type": "stream",
     "text": [
      "['state', 'account_length', 'area_code', 'phone_number', 'international_plan', 'voice_mail_plan', 'number_vmail_messages', 'total_day_minutes', 'total_day_calls', 'total_day_charge', 'total_eve_minutes', 'total_eve_calls', 'total_eve_charge', 'total_night_minutes', 'total_night_calls', 'total_night_charge', 'total_intl_minutes', 'total_intl_calls', 'total_intl_charge', 'customer_service_calls', 'churn']\n"
     ]
    }
   ],
   "source": [
    "#Clean column names: lowercase and replace spaces with underscores\n",
    "df.columns = df.columns.str.strip().str.lower().str.replace(' ', '_')\n",
    "\n",
    "# Confirm changes\n",
    "print(df.columns.tolist())\n"
   ]
  },
  {
   "cell_type": "markdown",
   "id": "f30554f9-f1f3-4101-8aad-9af2ab70dbf3",
   "metadata": {},
   "source": [
    "### 3.3 Clean and Encode Categorical Features\n",
    "In this step, we prepare categorical features for machine learning models by converting string-based values into numerical representations."
   ]
  },
  {
   "cell_type": "code",
   "execution_count": 107,
   "id": "30e457ad-aecc-427c-8550-6798c2fb98b5",
   "metadata": {},
   "outputs": [],
   "source": [
    "# Drop phone_number (not useful)\n",
    "df.drop('phone_number', axis=1, inplace=True)"
   ]
  },
  {
   "cell_type": "markdown",
   "id": "4e70b684-7f2b-4079-b5ff-d98dbb156b5c",
   "metadata": {},
   "source": [
    "### 3.4 One-hot encode 'state' and 'area_code'"
   ]
  },
  {
   "cell_type": "code",
   "execution_count": 108,
   "id": "81b9beee-c643-4ecc-bab8-134c4f310161",
   "metadata": {},
   "outputs": [],
   "source": [
    "# Initialize label encoder\n",
    "le = LabelEncoder()\n",
    "\n",
    "# Apply label encoding to 'state' and 'area_code'\n",
    "df['state'] = le.fit_transform(df['state'])\n",
    "df['area_code'] = le.fit_transform(df['area_code'])"
   ]
  },
  {
   "cell_type": "markdown",
   "id": "ad49b90d-e00f-4ded-aa28-5cbbe637d8ac",
   "metadata": {},
   "source": [
    "### 3.5 Final Dataset Overview"
   ]
  },
  {
   "cell_type": "code",
   "execution_count": 109,
   "id": "77fe5153-69ab-478a-bedf-492c1b4726d9",
   "metadata": {},
   "outputs": [
    {
     "name": "stdout",
     "output_type": "stream",
     "text": [
      "<class 'pandas.core.frame.DataFrame'>\n",
      "RangeIndex: 3333 entries, 0 to 3332\n",
      "Data columns (total 20 columns):\n",
      " #   Column                  Non-Null Count  Dtype  \n",
      "---  ------                  --------------  -----  \n",
      " 0   state                   3333 non-null   int32  \n",
      " 1   account_length          3333 non-null   int64  \n",
      " 2   area_code               3333 non-null   int64  \n",
      " 3   international_plan      3333 non-null   object \n",
      " 4   voice_mail_plan         3333 non-null   object \n",
      " 5   number_vmail_messages   3333 non-null   int64  \n",
      " 6   total_day_minutes       3333 non-null   float64\n",
      " 7   total_day_calls         3333 non-null   int64  \n",
      " 8   total_day_charge        3333 non-null   float64\n",
      " 9   total_eve_minutes       3333 non-null   float64\n",
      " 10  total_eve_calls         3333 non-null   int64  \n",
      " 11  total_eve_charge        3333 non-null   float64\n",
      " 12  total_night_minutes     3333 non-null   float64\n",
      " 13  total_night_calls       3333 non-null   int64  \n",
      " 14  total_night_charge      3333 non-null   float64\n",
      " 15  total_intl_minutes      3333 non-null   float64\n",
      " 16  total_intl_calls        3333 non-null   int64  \n",
      " 17  total_intl_charge       3333 non-null   float64\n",
      " 18  customer_service_calls  3333 non-null   int64  \n",
      " 19  churn                   3333 non-null   bool   \n",
      "dtypes: bool(1), float64(8), int32(1), int64(8), object(2)\n",
      "memory usage: 485.1+ KB\n"
     ]
    }
   ],
   "source": [
    "# structure check\n",
    "df.info()"
   ]
  },
  {
   "cell_type": "code",
   "execution_count": 110,
   "id": "aa717cf1-5de4-4411-8ab0-5bee80575477",
   "metadata": {},
   "outputs": [
    {
     "data": {
      "text/html": [
       "<div>\n",
       "<style scoped>\n",
       "    .dataframe tbody tr th:only-of-type {\n",
       "        vertical-align: middle;\n",
       "    }\n",
       "\n",
       "    .dataframe tbody tr th {\n",
       "        vertical-align: top;\n",
       "    }\n",
       "\n",
       "    .dataframe thead th {\n",
       "        text-align: right;\n",
       "    }\n",
       "</style>\n",
       "<table border=\"1\" class=\"dataframe\">\n",
       "  <thead>\n",
       "    <tr style=\"text-align: right;\">\n",
       "      <th></th>\n",
       "      <th>state</th>\n",
       "      <th>account_length</th>\n",
       "      <th>area_code</th>\n",
       "      <th>international_plan</th>\n",
       "      <th>voice_mail_plan</th>\n",
       "      <th>number_vmail_messages</th>\n",
       "      <th>total_day_minutes</th>\n",
       "      <th>total_day_calls</th>\n",
       "      <th>total_day_charge</th>\n",
       "      <th>total_eve_minutes</th>\n",
       "      <th>total_eve_calls</th>\n",
       "      <th>total_eve_charge</th>\n",
       "      <th>total_night_minutes</th>\n",
       "      <th>total_night_calls</th>\n",
       "      <th>total_night_charge</th>\n",
       "      <th>total_intl_minutes</th>\n",
       "      <th>total_intl_calls</th>\n",
       "      <th>total_intl_charge</th>\n",
       "      <th>customer_service_calls</th>\n",
       "      <th>churn</th>\n",
       "    </tr>\n",
       "  </thead>\n",
       "  <tbody>\n",
       "    <tr>\n",
       "      <th>467</th>\n",
       "      <td>20</td>\n",
       "      <td>112</td>\n",
       "      <td>1</td>\n",
       "      <td>no</td>\n",
       "      <td>no</td>\n",
       "      <td>0</td>\n",
       "      <td>170.4</td>\n",
       "      <td>103</td>\n",
       "      <td>28.97</td>\n",
       "      <td>200.2</td>\n",
       "      <td>71</td>\n",
       "      <td>17.02</td>\n",
       "      <td>258.3</td>\n",
       "      <td>100</td>\n",
       "      <td>11.62</td>\n",
       "      <td>11.6</td>\n",
       "      <td>4</td>\n",
       "      <td>3.13</td>\n",
       "      <td>1</td>\n",
       "      <td>False</td>\n",
       "    </tr>\n",
       "    <tr>\n",
       "      <th>175</th>\n",
       "      <td>29</td>\n",
       "      <td>94</td>\n",
       "      <td>1</td>\n",
       "      <td>no</td>\n",
       "      <td>no</td>\n",
       "      <td>0</td>\n",
       "      <td>252.6</td>\n",
       "      <td>104</td>\n",
       "      <td>42.94</td>\n",
       "      <td>169.0</td>\n",
       "      <td>125</td>\n",
       "      <td>14.37</td>\n",
       "      <td>170.9</td>\n",
       "      <td>106</td>\n",
       "      <td>7.69</td>\n",
       "      <td>11.1</td>\n",
       "      <td>7</td>\n",
       "      <td>3.00</td>\n",
       "      <td>2</td>\n",
       "      <td>False</td>\n",
       "    </tr>\n",
       "    <tr>\n",
       "      <th>1480</th>\n",
       "      <td>48</td>\n",
       "      <td>78</td>\n",
       "      <td>0</td>\n",
       "      <td>no</td>\n",
       "      <td>no</td>\n",
       "      <td>0</td>\n",
       "      <td>87.0</td>\n",
       "      <td>102</td>\n",
       "      <td>14.79</td>\n",
       "      <td>193.6</td>\n",
       "      <td>64</td>\n",
       "      <td>16.46</td>\n",
       "      <td>205.8</td>\n",
       "      <td>120</td>\n",
       "      <td>9.26</td>\n",
       "      <td>11.0</td>\n",
       "      <td>5</td>\n",
       "      <td>2.97</td>\n",
       "      <td>0</td>\n",
       "      <td>False</td>\n",
       "    </tr>\n",
       "    <tr>\n",
       "      <th>159</th>\n",
       "      <td>9</td>\n",
       "      <td>115</td>\n",
       "      <td>2</td>\n",
       "      <td>no</td>\n",
       "      <td>yes</td>\n",
       "      <td>24</td>\n",
       "      <td>142.1</td>\n",
       "      <td>124</td>\n",
       "      <td>24.16</td>\n",
       "      <td>183.4</td>\n",
       "      <td>129</td>\n",
       "      <td>15.59</td>\n",
       "      <td>164.8</td>\n",
       "      <td>114</td>\n",
       "      <td>7.42</td>\n",
       "      <td>9.6</td>\n",
       "      <td>4</td>\n",
       "      <td>2.59</td>\n",
       "      <td>1</td>\n",
       "      <td>False</td>\n",
       "    </tr>\n",
       "    <tr>\n",
       "      <th>1015</th>\n",
       "      <td>1</td>\n",
       "      <td>122</td>\n",
       "      <td>1</td>\n",
       "      <td>no</td>\n",
       "      <td>no</td>\n",
       "      <td>0</td>\n",
       "      <td>232.5</td>\n",
       "      <td>96</td>\n",
       "      <td>39.53</td>\n",
       "      <td>205.5</td>\n",
       "      <td>120</td>\n",
       "      <td>17.47</td>\n",
       "      <td>213.7</td>\n",
       "      <td>91</td>\n",
       "      <td>9.62</td>\n",
       "      <td>11.9</td>\n",
       "      <td>2</td>\n",
       "      <td>3.21</td>\n",
       "      <td>0</td>\n",
       "      <td>False</td>\n",
       "    </tr>\n",
       "  </tbody>\n",
       "</table>\n",
       "</div>"
      ],
      "text/plain": [
       "      state  account_length  area_code international_plan voice_mail_plan  \\\n",
       "467      20             112          1                 no              no   \n",
       "175      29              94          1                 no              no   \n",
       "1480     48              78          0                 no              no   \n",
       "159       9             115          2                 no             yes   \n",
       "1015      1             122          1                 no              no   \n",
       "\n",
       "      number_vmail_messages  total_day_minutes  total_day_calls  \\\n",
       "467                       0              170.4              103   \n",
       "175                       0              252.6              104   \n",
       "1480                      0               87.0              102   \n",
       "159                      24              142.1              124   \n",
       "1015                      0              232.5               96   \n",
       "\n",
       "      total_day_charge  total_eve_minutes  total_eve_calls  total_eve_charge  \\\n",
       "467              28.97              200.2               71             17.02   \n",
       "175              42.94              169.0              125             14.37   \n",
       "1480             14.79              193.6               64             16.46   \n",
       "159              24.16              183.4              129             15.59   \n",
       "1015             39.53              205.5              120             17.47   \n",
       "\n",
       "      total_night_minutes  total_night_calls  total_night_charge  \\\n",
       "467                 258.3                100               11.62   \n",
       "175                 170.9                106                7.69   \n",
       "1480                205.8                120                9.26   \n",
       "159                 164.8                114                7.42   \n",
       "1015                213.7                 91                9.62   \n",
       "\n",
       "      total_intl_minutes  total_intl_calls  total_intl_charge  \\\n",
       "467                 11.6                 4               3.13   \n",
       "175                 11.1                 7               3.00   \n",
       "1480                11.0                 5               2.97   \n",
       "159                  9.6                 4               2.59   \n",
       "1015                11.9                 2               3.21   \n",
       "\n",
       "      customer_service_calls  churn  \n",
       "467                        1  False  \n",
       "175                        2  False  \n",
       "1480                       0  False  \n",
       "159                        1  False  \n",
       "1015                       0  False  "
      ]
     },
     "execution_count": 110,
     "metadata": {},
     "output_type": "execute_result"
    }
   ],
   "source": [
    "# Preview cleaned data\n",
    "df.sample(5)"
   ]
  },
  {
   "cell_type": "markdown",
   "id": "4e730b37-63e4-4b32-b544-e34af874778f",
   "metadata": {},
   "source": [
    "# 4 Exploratory Data Analysis (EDA)\n",
    "The main goal at this phase is to understand feature distributions, relationships with churn, and uncover potential drivers behind customer attrition. This helps guide feature selection and modeling."
   ]
  },
  {
   "cell_type": "markdown",
   "id": "1bcb2494-7871-4761-86ff-c0a9b9d6e9fa",
   "metadata": {},
   "source": [
    "### 4.1 Imports for EDA"
   ]
  },
  {
   "cell_type": "code",
   "execution_count": 111,
   "id": "a29ed7f7-47ab-416e-ac8b-fca3c1465ac0",
   "metadata": {},
   "outputs": [],
   "source": [
    "# Set aesthetics\n",
    "sns.set(style=\"whitegrid\")\n",
    "plt.style.use(\"ggplot\")\n",
    "\n",
    "# Enable full-width plots in Jupyter\n",
    "%matplotlib inline\n"
   ]
  },
  {
   "cell_type": "markdown",
   "id": "19d5f168-1394-43f9-bd0b-a9eccfbba02c",
   "metadata": {},
   "source": [
    "### 4.2 Target Variable Distribution (churn)"
   ]
  },
  {
   "cell_type": "code",
   "execution_count": 112,
   "id": "8fb2cb15-7957-41cf-9562-5e2bad07a620",
   "metadata": {},
   "outputs": [
    {
     "data": {
      "image/png": "[encoded data removed]",
      "text/plain": [
       "<Figure size 600x400 with 1 Axes>"
      ]
     },
     "metadata": {},
     "output_type": "display_data"
    }
   ],
   "source": [
    "# Plot churn distribution\n",
    "plt.figure(figsize=(6, 4))\n",
    "sns.countplot(x='churn', data=df)\n",
    "plt.title('Churn Distribution')\n",
    "plt.xlabel('Churn (0 = No, 1 = Yes)')\n",
    "plt.ylabel('Count')\n",
    "plt.show()\n"
   ]
  },
  {
   "cell_type": "markdown",
   "id": "0f6afcaa-ce0a-4533-b6d5-ead17ace0b46",
   "metadata": {},
   "source": [
    "###  Churn Distribution Overview\n",
    "\n",
    "This bar chart visualizes the **customer churn** status:\n",
    "\n",
    "- **False (0 = No churn)**: customers — dominant group.\n",
    "- **True (1 = Churn)**: customers — minority group.\n"
   ]
  },
  {
   "cell_type": "markdown",
   "id": "c538472e-2e47-49ed-a7e8-c3db0360410b",
   "metadata": {},
   "source": [
    "### 4.3 Numerical Feature Distributions"
   ]
  },
  {
   "cell_type": "code",
   "execution_count": null,
   "id": "23013286-1338-4715-af97-fddd1269c741",
   "metadata": {},
   "outputs": [],
   "source": [
    "# Get numeric columns excluding 'churn'\n",
    "numeric_cols = df.select_dtypes(include=['int64', 'float64']).columns\n",
    "numeric_cols = [col for col in numeric_cols if col != 'churn']\n",
    "\n",
    "# Generate a list of unique colors\n",
    "colors = sns.color_palette(\"husl\", len(numeric_cols))  # husl gives visually distinct hues\n",
    "\n",
    "# Plot histograms\n",
    "plt.figure(figsize=(16, 12))\n",
    "for i, col in enumerate(numeric_cols, 1):\n",
    "    plt.subplot(4, 4, i)\n",
    "    sns.histplot(df[col], bins=30, color=colors[i-1], kde=True)\n",
    "    plt.title(col)\n",
    "    plt.tight_layout()\n",
    "\n",
    "plt.suptitle(\"Distribution of Numerical Features\", fontsize=18)\n",
    "plt.tight_layout()\n",
    "plt.show()\n"
   ]
  },
  {
   "cell_type": "markdown",
   "id": "21838892-5aa1-47c9-891e-20bb8e70fc0a",
   "metadata": {},
   "source": [
    "###  Feature Distribution Summary\n",
    "\n",
    "This visualization shows the distribution of key numerical features from a telecom dataset. Here's a concise interpretation per feature:\n",
    "\n",
    "- **account_length**: Normally distributed around 100 — no major skew.\n",
    "- **area_code**: Three distinct groups (408, 415, 510) — categorical.\n",
    "- **number_vmail_messages**: Strong right skew — most users have zero voicemails.\n",
    "- **total_day_minutes / charge / calls**: Symmetric bell-shaped curves — consistent usage across users.\n",
    "- **total_eve_minutes / charge / calls**: Similar to day features — centered and symmetric.\n",
    "- **total_night_minutes / charge / calls**: Mirror the day/eve patterns — normal distribution.\n",
    "- **total_intl_minutes / charge**: Centered around 10 and 2.5 respectively — limited variability.\n",
    "- **total_intl_calls**: Right skew — most customers make few international calls.\n",
    "- **customer_service_calls**: Right skew — most users contact service rarely.\n",
    "\n",
    "### Insights\n",
    "\n",
    "- Features like **area_code** and **number_vmail_messages** may benefit from encoding or binarization.\n",
    "- Right-skewed columns (e.g. **intl_calls**, **vmail_messages**, **cust_service_calls**) may need transformation or outlier handling.\n",
    "- Uniformly distributed metrics suggest reliable feature coverage for modeling.\n",
    "\n",
    "###  Modeling Usefulness\n",
    "\n",
    "- Suitable for regression/classification models after standard preprocessing.\n",
    "- Distributions show little imbalance except in skewed features.\n"
   ]
  },
  {
   "cell_type": "markdown",
   "id": "296f0a9f-3e9b-4e04-b011-b72a7d2dfca7",
   "metadata": {},
   "source": [
    "### 4.4 Churn vs Numerical Features (Violin plots)"
   ]
  },
  {
   "cell_type": "code",
   "execution_count": null,
   "id": "9233eee2-e1bb-4d65-87d9-8a0e6cba5fd3",
   "metadata": {},
   "outputs": [],
   "source": [
    "plt.figure(figsize=(16, 12))\n",
    "for i, col in enumerate(numeric_cols[:9]):\n",
    "    plt.subplot(3, 3, i + 1)\n",
    "    sns.violinplot(x='churn', y=col, data=df, hue='churn', palette='Set2', legend=False)\n",
    "    plt.title(f'{col} vs Churn')\n",
    "    plt.xlabel('Churn')\n",
    "    plt.ylabel(col)\n",
    "\n",
    "plt.suptitle(\"Churn vs Numerical Features (Violin Plots)\", fontsize=18, y=1.02)\n",
    "plt.tight_layout()\n",
    "plt.show()\n"
   ]
  },
  {
   "cell_type": "markdown",
   "id": "ea47b82a-ef70-44a9-b08c-75c751a54e52",
   "metadata": {},
   "source": [
    "This chart compares feature distributions between churned and non-churned customers:\n",
    "\n",
    "- **Voicemail Messages**: Churned users typically have fewer or zero messages.\n",
    "- **Day Charges/Minutes**: Slightly higher for churned users — potential indicator of heavy usage.\n",
    "- **Evening Calls**: No clear separation — not churn-influential.\n",
    "- **Area Code & Account Length**: Uniform across churn statuses — likely low predictive value."
   ]
  },
  {
   "cell_type": "markdown",
   "id": "b3723ffd-3028-4db9-b1f8-b2068d9a5048",
   "metadata": {},
   "source": [
    "### 4.5 Categorical Feature Impact on Churn"
   ]
  },
  {
   "cell_type": "code",
   "execution_count": null,
   "id": "f6b7009c-8881-4b30-ac17-3e7d5de03507",
   "metadata": {},
   "outputs": [],
   "source": [
    "cat_features = ['international_plan', 'voice_mail_plan']\n",
    "\n",
    "plt.figure(figsize=(10, 4 * len(cat_features)))\n",
    "\n",
    "for i, col in enumerate(cat_features, 1):\n",
    "    plt.subplot(len(cat_features), 1, i)\n",
    "    sns.barplot(x=col, y='churn', hue=col, data=df, estimator='mean', palette='pastel', legend=False)\n",
    "    plt.title(f'Churn Rate by {col}')\n",
    "    plt.ylabel('Churn Rate')\n",
    "    plt.xlabel(col)\n",
    "\n",
    "plt.tight_layout()\n",
    "plt.show()\n"
   ]
  },
  {
   "cell_type": "markdown",
   "id": "5d51066d-fe97-494d-a853-a827e3eba370",
   "metadata": {},
   "source": [
    "### Churn Rate vs Plan Type\n",
    "\n",
    "This visualization compares **churn likelihood** based on two customer plans:\n",
    "\n",
    "#### 1. **International Plan**\n",
    "-  Customers **with** an international plan show a **churn rate ~45%**\n",
    "-  Those **without** it churn at just **~10%**\n",
    "- Suggests international plan may correlate strongly with dissatisfaction or unmet needs\n",
    "\n",
    "#### 2. **Voice Mail Plan**\n",
    "- Customers **with** voice mail plan have a **lower churn (~7.5%)**\n",
    "- Those **without** churn **more (~10%)**\n",
    "- Indicates voicemail users are slightly more retained — possibly more engaged overall\n",
    "\n"
   ]
  },
  {
   "cell_type": "markdown",
   "id": "279c1a96-bf4c-4d90-b39f-208291b8abf2",
   "metadata": {},
   "source": [
    "## 4.6 Correlation Heatmap"
   ]
  },
  {
   "cell_type": "code",
   "execution_count": null,
   "id": "acd19ae6-6b1c-4150-978c-f8eda6524bd2",
   "metadata": {},
   "outputs": [],
   "source": [
    "plt.figure(figsize=(12, 10))\n",
    "corr = df.corr(numeric_only=True)   \n",
    "sns.heatmap(corr, annot=True, fmt=\".2f\", cmap=\"plasma\", square=True)\n",
    "plt.title('Feature Correlation Matrix')\n",
    "plt.show()"
   ]
  },
  {
   "cell_type": "markdown",
   "id": "d0e01b0d-68b5-4a74-83a1-c49ad53eb86e",
   "metadata": {},
   "source": [
    "###  Correlation Matrix Summary\n",
    "\n",
    "This heatmap shows pairwise correlations between telecom features. Key insights:\n",
    "\n",
    "####  Strong Positive Correlations (r ≈ 1.0)\n",
    "- `total_day_minutes` - `total_day_charge`\n",
    "- `total_eve_minutes` - `total_eve_charge`\n",
    "- `total_night_minutes` -`total_night_charge`\n",
    "- `total_intl_minutes` -`total_intl_charge`\n",
    "\n",
    "These are **redundant features** — charges are derived from minutes.\n",
    "\n",
    "####  Weak or No Correlation (r ≈ 0)\n",
    "- `account_length`, `area_code`, `number_vmail_messages`, `customer_service_calls` show **low correlation** with most features.\n",
    "- `churn` has **low linear correlation** with all features — suggests nonlinear patterns or categorical influence.\n",
    "\n",
    "\n"
   ]
  },
  {
   "cell_type": "markdown",
   "id": "2fddab52-58a0-467a-8460-0215d186f634",
   "metadata": {},
   "source": [
    "## 5 STATISTICAL ANALYSIS"
   ]
  },
  {
   "cell_type": "markdown",
   "id": "0a22efef-fd23-4f15-bd15-27e91a035437",
   "metadata": {},
   "source": [
    "### 5.1 Outlier Detection with IQR"
   ]
  },
  {
   "cell_type": "code",
   "execution_count": null,
   "id": "0e82125d-5108-400e-bfcf-e5bb2faf900b",
   "metadata": {},
   "outputs": [],
   "source": [
    "def detect_outliers_iqr(data, column):\n",
    "    Q1 = data[column].quantile(0.25)\n",
    "    Q3 = data[column].quantile(0.75)\n",
    "    IQR = Q3 - Q1\n",
    "    lower = Q1 - 1.5 * IQR\n",
    "    upper = Q3 + 1.5 * IQR\n",
    "    outliers = data[(data[column] < lower) | (data[column] > upper)]\n",
    "    print(f\"{column}: {len(outliers)} outliers\")\n",
    "\n",
    "#Boxplot to visualize outliers\n",
    "    plt.figure(figsize=(6, 4))\n",
    "    sns.boxplot(y=data[column], color='skyblue')\n",
    "    plt.title(f'Boxplot of {column}')\n",
    "    plt.ylabel(column)\n",
    "    plt.grid(True)\n",
    "    plt.show()\n",
    "\n",
    "# Apply to multiple columns\n",
    "for col in ['total_day_minutes', 'total_day_charge', 'customer_service_calls']:\n",
    "    detect_outliers_iqr(df, col)"
   ]
  },
  {
   "cell_type": "markdown",
   "id": "7ba37544-c188-4cd8-92c7-fa1911728597",
   "metadata": {},
   "source": [
    "## Boxplot Interpretation: `total_day_minutes`\n",
    "\n",
    "This boxplot helps visualize the distribution of call durations among customers and identify potential outliers.\n",
    "\n",
    "###  Key Components\n",
    "\n",
    "- **Median (~200 minutes):**  \n",
    "  The thick horizontal line inside the box marks the median call time. Half of customers have call durations below this value, and half above.\n",
    "\n",
    "- **Interquartile Range (IQR ~150 to 225 minutes):**  \n",
    "  The box shows the range between the first quartile (Q1, 25%) and third quartile (Q3, 75%). This reflects where the middle 50% of the data resides—essentially, mostly the “typical” users.\n",
    "\n",
    "- **Whiskers (~50 to 325 minutes):**  \n",
    "  These lines extend from the box to the smallest and largest non-outlier values. They give a sense of spread, but exclude extreme values.\n",
    "\n",
    "- **Outliers (dots outside whiskers):**  \n",
    "  Dots below 50 or above 325 minutes are flagged as outliers using the IQR method. These represent:\n",
    "    - 🔹 **Power users:** high call activity\n",
    "    - 🔹 **Low-engagement users:** barely any usage\n",
    "\n"
   ]
  },
  {
   "cell_type": "markdown",
   "id": "542ce02d-a168-4379-8223-69d5a83f413b",
   "metadata": {},
   "source": [
    "### 5.2 Chi-Squared Tests (Categorical Features)"
   ]
  },
  {
   "cell_type": "markdown",
   "id": "cf3a8ae2-ee65-4cd9-8f63-bce454754a1f",
   "metadata": {},
   "source": [
    "We test independence between churn and:\n",
    "- international_plan`\n",
    "- voice_mail_plan`"
   ]
  },
  {
   "cell_type": "code",
   "execution_count": null,
   "id": "9d6dfcdd-9edd-423f-9bd0-f70de615f6ff",
   "metadata": {},
   "outputs": [],
   "source": [
    "from scipy.stats import chi2_contingency\n",
    "\n",
    "for col in ['international_plan', 'voice_mail_plan']:\n",
    "    # Chi-square test\n",
    "    contingency = pd.crosstab(df[col], df['churn'])\n",
    "    chi2, p, _, _ = chi2_contingency(contingency)\n",
    "    print(f\"{col} vs churn --> p-value: {p:.4f}\")\n"
   ]
  },
  {
   "cell_type": "markdown",
   "id": "9cc5ddc2-53b5-496d-ac31-3cbd83bd504a",
   "metadata": {},
   "source": [
    "### Plan Features vs Churn: Statistical Insight\n",
    "\n",
    "- **International Plan vs Churn**  \n",
    "  Strong statistical relationship — customers with international plans are significantly more likely to churn.\n",
    "\n",
    "- **Voicemail Plan vs Churn**  \n",
    "  Also shows a significant link — voicemail plan users tend to churn at a higher rate.\n",
    "\n",
    "Both features show p-values near **0.0000**, suggesting these associations are not due to random chance."
   ]
  },
  {
   "cell_type": "markdown",
   "id": "ab45692e-5d34-4e40-a705-7fc7595cdee7",
   "metadata": {},
   "source": [
    "## 5.3 T-Tests for Numerical Features"
   ]
  },
  {
   "cell_type": "markdown",
   "id": "42415675-f05a-4807-bb5a-2d4165e32dfb",
   "metadata": {},
   "source": [
    "We test for mean differences in:\n",
    "- total_day_minutes\n",
    "- total_day_charge\n",
    "- customer_service_calls\n",
    "Groups: Churned (True) vs. Not Churned (False)\n"
   ]
  },
  {
   "cell_type": "code",
   "execution_count": null,
   "id": "754e4a4c-d590-42c0-8c23-2da7c09e51a7",
   "metadata": {},
   "outputs": [],
   "source": [
    "from scipy.stats import ttest_ind\n",
    "\n",
    "# Define feature list\n",
    "features = ['total_day_minutes', 'total_day_charge', 'customer_service_calls']\n",
    "\n",
    "# Grouped data\n",
    "group_yes = df[df['churn'] == True]\n",
    "group_no = df[df['churn'] == False]\n",
    "\n",
    "# Create dataframe for mean values and t-test p-values\n",
    "mean_vals = []\n",
    "p_vals = []\n",
    "\n",
    "for feature in features:\n",
    "    mean_no = group_no[feature].mean()\n",
    "    mean_yes = group_yes[feature].mean()\n",
    "    t_stat, p_val = ttest_ind(group_yes[feature], group_no[feature], equal_var=False)\n",
    "    \n",
    "    mean_vals.append({'Feature': feature, 'Churn': 'No', 'Mean': mean_no})\n",
    "    mean_vals.append({'Feature': feature, 'Churn': 'Yes', 'Mean': mean_yes})\n",
    "    p_vals.append(f\"{feature}: T = {t_stat:.4f}, p = {p_val:.4f}\")\n",
    "\n",
    "# Convert to DataFrame\n",
    "plot_df = pd.DataFrame(mean_vals)\n",
    "\n",
    "# Custom  palette\n",
    "palette = {'No': '#A6D785', 'Yes': '#4C8B4B'}\n",
    "\n",
    "# Plot bar chart\n",
    "plt.figure(figsize=(8, 5))\n",
    "sns.barplot(data=plot_df, x='Feature', y='Mean', hue='Churn', palette=palette)\n",
    "plt.title('Mean Comparison by Churn Group')\n",
    "plt.ylabel('Mean Value')\n",
    "plt.xlabel('Feature')\n",
    "plt.grid(True, linestyle='--', alpha=0.3)\n",
    "plt.tight_layout()\n",
    "plt.legend(title='Churn')\n",
    "\n",
    "plt.show()\n",
    "\n",
    "# Print T-tests summary\n",
    "for summary in p_vals:\n",
    "    print(summary)"
   ]
  },
  {
   "cell_type": "markdown",
   "id": "be3c3b31-e253-42fd-93be-2769439eaa46",
   "metadata": {},
   "source": [
    "This bar chart compares the average values of three features between customers who churned and those who didn’t:\n",
    "\n",
    "- **Total Day Minutes**: Churned users have a noticeably higher mean call duration.\n",
    "- **Total Day Charge**: Slightly higher for churned users, consistent with longer call times.\n",
    "- **Customer Service Calls**: Mean values are low and nearly identical across both groups.\n",
    "These differences suggest that higher usage may correlate with churn, while service call frequency shows minimal impact."
   ]
  },
  {
   "cell_type": "markdown",
   "id": "eaaf6763-eaa5-454c-b117-eaf0a36131c5",
   "metadata": {},
   "source": [
    "## 6. Machine Learning: Model Development and Evaluation\n",
    "\n",
    "In this phase, we develop predictive models to identify customers likely to churn. Using a structured pipeline, we preprocess data, address class imbalance with **SMOTE**, and train three classifiers: **Logistic Regression**, **Random Forest**, and **XGBoost**.\n",
    "\n",
    "Each model is fine-tuned using **GridSearchCV** and evaluated on key metrics—**precision**, **recall**, **F1-score**, and **ROC-AUC**. The goal is to balance accurate churn detection with actionable insights, enabling data-driven customer retention strategies.\n",
    "\n"
   ]
  },
  {
   "cell_type": "markdown",
   "id": "76d71909-e32c-4ad5-bf91-ed42bafc6bc2",
   "metadata": {},
   "source": [
    "### 6.1 Importing necessary packages"
   ]
  },
  {
   "cell_type": "code",
   "execution_count": null,
   "id": "b9083acb-e00b-4bec-a666-300e82abf577",
   "metadata": {},
   "outputs": [],
   "source": [
    "from xgboost import XGBClassifier\n",
    "from sklearn.model_selection import train_test_split\n",
    "from sklearn.preprocessing import OneHotEncoder, StandardScaler\n",
    "from sklearn.compose import ColumnTransformer\n",
    "from sklearn.pipeline import Pipeline\n",
    "from sklearn.ensemble import RandomForestClassifier\n",
    "from sklearn.linear_model import LogisticRegression\n",
    "from sklearn.metrics import accuracy_score\n",
    "from sklearn.model_selection import GridSearchCV, StratifiedKFold\n",
    "from imblearn.over_sampling import SMOTE\n",
    "from sklearn.preprocessing import LabelEncoder\n",
    "from sklearn.metrics import roc_auc_score\n",
    "from sklearn.metrics import confusion_matrix\n",
    "from sklearn.metrics import classification_report\n",
    "from sklearn.metrics import (\n",
    "    accuracy_score,\n",
    "    roc_auc_score,\n",
    "    confusion_matrix,\n",
    "    classification_report, \n",
    "    roc_curve\n",
    ")\n",
    "\n",
    "\n",
    "import warnings\n",
    "warnings.filterwarnings(\"ignore\", category=UserWarning)\n"
   ]
  },
  {
   "cell_type": "markdown",
   "id": "07f2d67f-8d3c-4afc-a887-cd179c48c62d",
   "metadata": {},
   "source": [
    "\n",
    "#### 6.1.1 Define Features and Target"
   ]
  },
  {
   "cell_type": "code",
   "execution_count": null,
   "id": "f3b600b4-5758-41ac-9a08-919bdd8df979",
   "metadata": {},
   "outputs": [],
   "source": [
    "# Define fetures and target\n",
    "X = df.drop(columns=['churn']) \n",
    "y = df['churn']"
   ]
  },
  {
   "cell_type": "code",
   "execution_count": null,
   "id": "73bb9134-f273-40f7-8b2a-32af0c2a7a31",
   "metadata": {},
   "outputs": [],
   "source": [
    "#Listing which columns are categorical and numerical \n",
    "categorical_features = X.select_dtypes(include=['object','category']).columns.tolist()\n",
    "numerical_features = X.select_dtypes(include=['int64','float']).columns.tolist()\n",
    "\n",
    "print(\"categorical_features\")\n",
    "print(categorical_features)\n",
    "\n",
    "print(\"numerical_features\")\n",
    "print(numerical_features)"
   ]
  },
  {
   "cell_type": "markdown",
   "id": "57f49478-0e79-4533-ae03-db9ae5b576bf",
   "metadata": {},
   "source": [
    "#### 6.1.2 Create preprocessing pipeline"
   ]
  },
  {
   "cell_type": "code",
   "execution_count": null,
   "id": "af816100-5055-42de-bb30-ed293a415484",
   "metadata": {},
   "outputs": [],
   "source": [
    "# Create preprocessing pipeline\n",
    "preprocessor = ColumnTransformer(\n",
    "    transformers=[\n",
    "        ('num', StandardScaler(), numerical_features),\n",
    "        ('cat', OneHotEncoder(drop='if_binary'), categorical_features)\n",
    "    ])"
   ]
  },
  {
   "cell_type": "markdown",
   "id": "9fdf3805-9afb-4d0b-90a1-91bc232fb8bf",
   "metadata": {},
   "source": [
    "#### 6.1.3 Train-Test Split\n",
    "split the dataset into training and testing sets to evaluate performance reliably."
   ]
  },
  {
   "cell_type": "code",
   "execution_count": null,
   "id": "9cb28a8c-1404-4ff9-8f7c-14ef74e46938",
   "metadata": {},
   "outputs": [],
   "source": [
    "X_train, X_test, y_train, y_test = train_test_split(X, y, test_size=0.2, random_state=42,)"
   ]
  },
  {
   "cell_type": "markdown",
   "id": "fbb522d1-fa80-4d49-a7ae-e3ff86ff60a4",
   "metadata": {},
   "source": [
    "## 6.2.1 Logistic Regression"
   ]
  },
  {
   "cell_type": "code",
   "execution_count": null,
   "id": "09c3bcb0-0818-45e7-bec3-9b5a78e6c393",
   "metadata": {},
   "outputs": [],
   "source": [
    "#Creating logistic regression classifier\n",
    "logistic = LogisticRegression(penalty='l1', solver='liblinear',max_iter=1000, class_weight = 'balanced')"
   ]
  },
  {
   "cell_type": "code",
   "execution_count": null,
   "id": "622bc006-bbd0-48cc-b737-e92aa693b3fe",
   "metadata": {},
   "outputs": [],
   "source": [
    "#Creating a logistic regression model \n",
    "from imblearn.pipeline import Pipeline as imbPipeline\n",
    "\n",
    "pipeline = imbPipeline (steps = [\n",
    "    ('preprocess',preprocessor),\n",
    "    ('smote', SMOTE(random_state = 42)),\n",
    "    ('classifier',logistic)\n",
    "])"
   ]
  },
  {
   "cell_type": "code",
   "execution_count": null,
   "id": "1a4ef4cd-9cb0-45dc-9e15-b97f2ec79dea",
   "metadata": {},
   "outputs": [],
   "source": [
    "#Using grid search to find the best hyperparameters \n",
    "param_grid = {'classifier__C': [0.01, 0.1, 1, 10, 100]}\n",
    "\n",
    "grid_search = GridSearchCV(pipeline,param_grid,cv=3, scoring='roc_auc',n_jobs=-5,verbose=1)\n",
    "grid_search.fit(X_train, y_train)"
   ]
  },
  {
   "cell_type": "code",
   "execution_count": null,
   "id": "9936893c-1a44-4d23-a701-f757c1325e8b",
   "metadata": {},
   "outputs": [],
   "source": [
    "#Evaluating model performance \n",
    "y_pred = grid_search.predict(X_test)\n",
    "y_probs = grid_search.predict_proba(X_test)[:,1]\n",
    "print(\"Best Parameters:\", grid_search.best_params_)\n",
    "print(\"Classification Report:\\n\", classification_report(y_test, y_pred))\n",
    "print(\"ROC-AUC: {:.2f}\".format(roc_auc_score(y_test, y_probs)))"
   ]
  },
  {
   "cell_type": "markdown",
   "id": "956e62ad-acee-4699-9d52-e1ea033398b2",
   "metadata": {},
   "source": [
    "#### ROC CURVE"
   ]
  },
  {
   "cell_type": "code",
   "execution_count": null,
   "id": "97143658-bec5-4428-9512-58b64a463568",
   "metadata": {},
   "outputs": [],
   "source": [
    "fpr, tpr, thresholds = roc_curve(y_test, y_probs)\n",
    "\n",
    "plt.figure(figsize=(10, 5))\n",
    "\n",
    "plt.subplot(1, 2, 1)\n",
    "plt.plot(fpr, tpr, color='darkorange', lw=2, label='ROC curve (AUC = {:.2f})'.format(roc_auc_score(y_test, y_probs)))\n",
    "plt.plot([0, 1], [0, 1], color='navy', lw=2, linestyle='--')\n",
    "plt.xlabel('False Positive Rate')\n",
    "plt.ylabel('True Positive Rate')\n",
    "plt.title('Logistic Regression ROC Curve')\n",
    "plt.legend(loc=\"lower right\")\n",
    "\n",
    "\n",
    "plt.tight_layout()\n",
    "plt.show()\n"
   ]
  },
  {
   "cell_type": "markdown",
   "id": "993f1e4e-6893-4aeb-a138-f76c8f608bf8",
   "metadata": {},
   "source": [
    "### Interpretation:\n",
    "Logistic Regression serves as the baseline model for churn prediction. Its simplicity and interpretability make it ideal for establishing performance benchmarks.\n",
    "\n",
    "- **Technique**: L1-regularized Logistic Regression with `class_weight='balanced'` to account for churn class imbalance\n",
    "- **Tuning**: Regularization strength (`C`) tuned via **GridSearchCV**\n",
    "- **Key Metrics**:\n",
    "  - **Precision (Churn)**: 0.39  \n",
    "  - **Recall (Churn)**: 0.76  \n",
    "  - **F1-score (Churn)**: 0.52  \n",
    "  - **ROC-AUC**: 0.83\n",
    "\n",
    "**Insight**:  \n",
    "The model captures most churners (**high recall**), but also misclassifies many non-churners as churners (**low precision**). This results in **many false positives**, which may trigger unnecessary retention actions. While useful for detecting churn, this model lacks the accuracy needed for confident decision-making and was outperformed by ensemble models.\n",
    "\n"
   ]
  },
  {
   "cell_type": "markdown",
   "id": "fc625479-93bf-47ee-8d3b-397308efd692",
   "metadata": {},
   "source": [
    "### 6.2.2 RANDOM FOREST CLASSIFIER"
   ]
  },
  {
   "cell_type": "code",
   "execution_count": null,
   "id": "9a022d43-21fe-47dd-ba44-d97e4af41525",
   "metadata": {},
   "outputs": [],
   "source": [
    "# Initialize Random Forest model\n",
    "rf=RandomForestClassifier(random_state=42,class_weight='balanced')\n"
   ]
  },
  {
   "cell_type": "code",
   "execution_count": null,
   "id": "99620a0c-68f0-4eab-8cb6-06de75f177cd",
   "metadata": {},
   "outputs": [],
   "source": [
    " # Create pipeline\n",
    "from imblearn.pipeline import Pipeline as imbPipeline\n",
    "\n",
    "pipeline = imbPipeline (steps = [\n",
    "    ('preprocess',preprocessor),\n",
    "    ('smote', SMOTE(random_state = 42)),\n",
    "    ('classifier',rf)\n",
    "])"
   ]
  },
  {
   "cell_type": "code",
   "execution_count": null,
   "id": "0fbe13f4-bc84-40e6-8d9c-40769a74a035",
   "metadata": {},
   "outputs": [],
   "source": [
    "#Defining hyperparameters \n",
    "param_grid = {\n",
    "    'classifier__n_estimators': [100],\n",
    "    'classifier__max_depth': [None, 5, 10],\n",
    "    'classifier__min_samples_split': [2],\n",
    "    'classifier__min_samples_leaf': [1],\n",
    "    'classifier__bootstrap': [True]\n",
    "}"
   ]
  },
  {
   "cell_type": "code",
   "execution_count": null,
   "id": "cec237be-1660-4780-97f3-db9dcbb15cf9",
   "metadata": {},
   "outputs": [],
   "source": [
    "# Set up grid search parameters\n",
    "grid_search = GridSearchCV(pipeline, param_grid, cv=5, scoring='roc_auc', n_jobs=-1)\n",
    "grid_search.fit(X_train, y_train)"
   ]
  },
  {
   "cell_type": "markdown",
   "id": "36e7bcf5-8c94-4ecf-a978-09c251e53caa",
   "metadata": {},
   "source": [
    "#### Evaluate Model Performance"
   ]
  },
  {
   "cell_type": "code",
   "execution_count": null,
   "id": "482d5082-6c1a-45c1-8416-9a389aecef2d",
   "metadata": {},
   "outputs": [],
   "source": [
    "#Predicting on test valus\n",
    "y_pred = grid_search.predict(X_test)\n",
    "y_probs = grid_search.predict_proba(X_test)[:, 1]\n"
   ]
  },
  {
   "cell_type": "code",
   "execution_count": null,
   "id": "4159481f-8eeb-4ed7-bbc5-f6e75cf81ffd",
   "metadata": {},
   "outputs": [],
   "source": [
    "y_pred = grid_search.predict(X_test)\n",
    "y_probs = grid_search.predict_proba(X_test)[:,1]\n",
    "print(\"Best Parameters:\", grid_search.best_params_)\n",
    "print(\"Classification Report:\\n\", classification_report(y_test, y_pred))\n",
    "print(\"ROC-AUC: {:.2f}\".format(roc_auc_score(y_test, y_probs)))"
   ]
  },
  {
   "cell_type": "markdown",
   "id": "3e01d424-8a9e-4250-a90a-15c14b2f8da4",
   "metadata": {},
   "source": [
    "###  Key Observations\n",
    "\n",
    "- The model performs **excellently in identifying non-churners**, achieving both **precision and recall at 97%**.\n",
    "- For **churners**, the model achieves a **balanced precision and recall of 81%**, which is a **significant improvement** over the Logistic Regression model.\n",
    "  - The **ROC-AUC score of 0.93** indicates strong **discriminatory power** in distinguishing churners from non-churners.\n",
    "- The **balance between sensitivity (recall) and precision** for churn predictions makes this model a **strong candidate for real-world deployment**, particularly in **customer retention strategies**.\n",
    "\n",
    "---\n"
   ]
  },
  {
   "cell_type": "markdown",
   "id": "97eefc39-02eb-4430-875e-d6ff14cc6cb2",
   "metadata": {},
   "source": [
    "#### ROC Curve Visualization"
   ]
  },
  {
   "cell_type": "code",
   "execution_count": null,
   "id": "b26493ef-4f4e-4fac-80fc-602e8d61414f",
   "metadata": {},
   "outputs": [],
   "source": [
    "fpr, tpr, _ = roc_curve(y_test, y_probs)\n",
    "\n",
    "plt.figure(figsize=(10, 5))\n",
    "plt.plot(fpr, tpr, color='darkgreen', lw=2, label='Random Forest ROC (AUC = {:.2f})'.format(roc_auc_score(y_test, y_probs)))\n",
    "plt.plot([0, 1], [0, 1], color='navy', lw=2, linestyle='--')\n",
    "plt.xlabel('False Positive Rate')\n",
    "plt.ylabel('True Positive Rate')\n",
    "plt.title('Random Forest ROC Curve')\n",
    "plt.legend(loc='lower right')\n",
    "plt.grid(True)\n",
    "plt.tight_layout()\n",
    "plt.show()\n"
   ]
  },
  {
   "cell_type": "markdown",
   "id": "0cdc6b4b-8fcc-458e-9f1e-78bcf5c58ada",
   "metadata": {},
   "source": [
    "\n",
    "### ROC Curve Visualization interpretation\n",
    "\n",
    "The **Receiver Operating Characteristic (ROC) curve** provides a visual representation of the trade-off between the **true positive rate (sensitivity)** and the **false positive rate**. A model with a curve that bows towards the top-left corner demonstrates excellent performance, and a higher area under the curve (AUC) reflects stronger predictive capability.\n",
    "\n",
    "\n"
   ]
  },
  {
   "cell_type": "markdown",
   "id": "5ceadbe8-8dd0-4dbd-8ddf-4a0a9976c4a7",
   "metadata": {},
   "source": [
    "## 6.2.3 XGBoost Classifier\n",
    "\n",
    "Given the observed performance improvement with the **Random Forest** model, the next logical step is to evaluate the **XGBoost Classifier**, which is well-known for its strong performance on structured/tabular data.\n",
    "\n",
    "### Why XGBoost?\n",
    "\n",
    "- **Built-in Handling of Class Imbalance**: XGBoost provides parameters like `scale_pos_weight` that help address class imbalance effectively.\n",
    "- **Regularization**: Incorporates both L1 and L2 regularization to reduce the risk of overfitting.\n",
    "- **Optimized for Speed and Performance**: Uses gradient boosting with highly efficient computation.\n",
    "- **Proven Performance**: Frequently outperforms other tree-based algorithms such as Random Forest, especially when fine-tuned.\n",
    "\n",
    "In the following section, we will implement, tune, and evaluate the **XGBoost Classifier** for our churn prediction task.\n"
   ]
  },
  {
   "cell_type": "markdown",
   "id": "f05c471a-54ae-4896-b343-beb6b1bae08a",
   "metadata": {},
   "source": [
    " #### Initialize XGBoost Classifier"
   ]
  },
  {
   "cell_type": "code",
   "execution_count": null,
   "id": "6438af90-e2b9-4234-b4b2-2581c6148a85",
   "metadata": {},
   "outputs": [],
   "source": [
    "# Initialize XGBoost model\n",
    "xgb = XGBClassifier(\n",
    "    random_state=42,\n",
    "    use_label_encoder=False,\n",
    "    eval_metric='logloss',\n",
    "    scale_pos_weight=1\n",
    ")"
   ]
  },
  {
   "cell_type": "code",
   "execution_count": null,
   "id": "e5798d6f-f20e-44a4-a515-51c789fc5723",
   "metadata": {},
   "outputs": [],
   "source": [
    "# create pipeline\n",
    "pipeline_xgb = imbPipeline(steps=[\n",
    "    ('preprocess', preprocessor),\n",
    "    ('smote', SMOTE(random_state=42)),\n",
    "    ('classifier', xgb)\n",
    "])"
   ]
  },
  {
   "cell_type": "code",
   "execution_count": null,
   "id": "bccaa412-4afe-4e5b-8432-bcab58152716",
   "metadata": {},
   "outputs": [],
   "source": [
    "# Define Hyperparameters\n",
    "param_grid_xgb = {\n",
    "    'classifier__n_estimators': [100, 200],\n",
    "    'classifier__max_depth': [3, 5, 7],\n",
    "    'classifier__learning_rate': [0.01, 0.1],\n",
    "    'classifier__subsample': [0.8, 1],\n",
    "    'classifier__colsample_bytree': [0.8, 1]\n",
    "}"
   ]
  },
  {
   "cell_type": "code",
   "execution_count": null,
   "id": "0194a3ab-4c13-46c2-b430-e7460aaf15ea",
   "metadata": {},
   "outputs": [],
   "source": [
    "#Perform GridSearchCV\n",
    "grid_search_xgb = GridSearchCV(estimator=pipeline_xgb,param_grid=param_grid_xgb,scoring='roc_auc',cv=5,n_jobs=-1,verbose=1)\n",
    "grid_search_xgb.fit(X_train, y_train)"
   ]
  },
  {
   "cell_type": "markdown",
   "id": "c5cba965-9026-4001-b1dc-addb791a627b",
   "metadata": {},
   "source": [
    "#### Evaluate Model Performance"
   ]
  },
  {
   "cell_type": "code",
   "execution_count": null,
   "id": "7e863a04-71d7-4467-aacd-243af3347654",
   "metadata": {},
   "outputs": [],
   "source": [
    "best_xgb_model = grid_search_xgb.best_estimator_\n",
    "y_pred_xgb = best_xgb_model.predict(X_test)\n",
    "y_proba_xgb = best_xgb_model.predict_proba(X_test)[:, 1]\n"
   ]
  },
  {
   "cell_type": "code",
   "execution_count": null,
   "id": "877c118d-f024-4d73-80d8-925cacf75922",
   "metadata": {},
   "outputs": [],
   "source": [
    "print(\"Best Parameters:\", grid_search_xgb.best_params_)\n",
    "print(\"\\nClassification Report:\\n\", classification_report(y_test, y_pred_xgb))\n",
    "print(\"ROC-AUC Score:\", roc_auc_score(y_test, y_proba_xgb))"
   ]
  },
  {
   "cell_type": "markdown",
   "id": "6b20f24c-1d2c-49f0-8289-727ce6675aae",
   "metadata": {},
   "source": [
    "#### ROC Curve - XGBoost Classifier"
   ]
  },
  {
   "cell_type": "code",
   "execution_count": null,
   "id": "de98da32-266a-496a-8810-f823ff6581b5",
   "metadata": {},
   "outputs": [],
   "source": [
    "fpr, tpr, _ = roc_curve(y_test, y_proba_xgb)\n",
    "\n",
    "plt.figure(figsize=(8,6))\n",
    "plt.plot(fpr, tpr, label='XGBoost (AUC = {:.2f})'.format(roc_auc_score(y_test, y_proba_xgb)))\n",
    "plt.plot([0,1], [0,1], 'k--')\n",
    "plt.xlabel('False Positive Rate')\n",
    "plt.ylabel('True Positive Rate')\n",
    "plt.title('ROC Curve - XGBoost Classifier')\n",
    "plt.legend()\n",
    "plt.grid(True)\n",
    "plt.show()\n"
   ]
  },
  {
   "cell_type": "markdown",
   "id": "9a675bf5-179e-492b-8f6c-d56d4349a02a",
   "metadata": {},
   "source": [
    "### Interpretation of XGBoost Classifier Results\n",
    "The XGBoost model achieved strong performance on the churn prediction task, particularly in distinguishing between churn and non-churn customers.\n",
    "\n",
    "- **Technique**: Gradient boosting with `scale_pos_weight`, regularization, and SMOTE integration\n",
    "- **Tuning**: Key hyperparameters such as `learning_rate`, `max_depth`, and `subsample` tuned using **GridSearchCV**\n",
    "- **Key Metrics**:\n",
    "  - **Precision (Churn)**: 0.84  \n",
    "  - **Recall (Churn)**: 0.78  \n",
    "  - **F1-score (Churn)**: 0.81  \n",
    "  - **ROC-AUC**: 0.93\n",
    "**Insight**:  \n",
    "XGBoost delivered the **best overall results**, with the highest ROC-AUC score and strong precision for identifying churners. While its recall is slightly lower than Random Forest, it achieves **fewer false positives**—making it ideal for targeting high-risk customers with retention campaigns. This model provides the **optimal balance** of performance and business actionability.\n"
   ]
  },
  {
   "cell_type": "markdown",
   "id": "ca1e1e77-87ce-425f-a550-ca7c604f5dd2",
   "metadata": {},
   "source": [
    "### 7.1 MODEL COMPARISON "
   ]
  },
  {
   "cell_type": "markdown",
   "id": "81297966-fa16-41cc-94d2-a501e494aba5",
   "metadata": {},
   "source": [
    "###  Model Performance Comparison\n",
    "\n",
    "| Model                | Precision (Churn) | Recall (Churn) | F1-Score (Churn) | ROC-AUC | Key Insight                                                                 |\n",
    "|----------------------|------------------|----------------|------------------|---------|------------------------------------------------------------------------------|\n",
    "| Logistic Regression  | 0.39             | 0.76           | 0.52             | 0.83    | High recall, but many false positives—useful as a baseline                   |\n",
    "| Random Forest        | 0.83             | 0.83           | 0.83             | 0.92    | Strong balance of precision and recall—robust for general deployment         |\n",
    "| XGBoost              | 0.84             | 0.78           | 0.81             | 0.93    | Best ROC-AUC and precision—ideal when minimizing false positives is crucial  |\n",
    "\n",
    "### Summary & Insights\n",
    "\n",
    "- **Best Overall Model**: **XGBoost**, with the highest **ROC-AUC (0.93)** and strong **precision (0.84)**, is the most effective model for identifying high-risk churners.  \n",
    "-This model minimizes false positives, allowing SyriaTel to focus retention resources on customers who are genuinely at risk—improving efficiency of loyalty campaigns.\n",
    "\n",
    "- **Most Balanced Model**: **Random Forest**, with equal **precision and recall (0.83)** and strong overall performance (**ROC-AUC = 0.92**), provides a reliable and interpretable solution.  \n",
    "-It balances customer outreach efforts—capturing most churners while avoiding over-alerting—ideal for broader, low-risk retention strategies.\n",
    "\n",
    "- **Baseline Model**: **Logistic Regression** showed high **recall (0.76)** but low **precision (0.39)**.  \n",
    "-Useful when the goal is to catch as many churners as possible, even at the cost of mistakenly targeting loyal customers. Not ideal when retention budgets are constrained.\n"
   ]
  },
  {
   "cell_type": "markdown",
   "id": "8c3badbb-d682-4b2f-aafd-1da7a06c5755",
   "metadata": {},
   "source": [
    "### 7.2 Feature Importance: XGBoost"
   ]
  },
  {
   "cell_type": "markdown",
   "id": "b223095a-1725-4f5c-939f-d0f38947f57d",
   "metadata": {},
   "source": [
    "####  Feature Importance Analysis\n",
    "\n",
    "In this section, we examine which features most strongly influence the model’s churn predictions using the XGBoost algorithm. Feature importance helps us understand which variables had the greatest impact on the model’s decision-making.Using XGBoost, we identify the most influential features in predicting churn. Higher importance scores indicate stronger impact on model decisions.\n",
    "\n",
    "These insights help SyriaTel focus on key churn drivers—such as contract type, tenure, and payment method—to guide targeted retention efforts and reduce customer loss.\n"
   ]
  },
  {
   "cell_type": "code",
   "execution_count": null,
   "id": "12d9a968-ce33-482e-9d93-3f822d219286",
   "metadata": {},
   "outputs": [],
   "source": [
    "# Extract fitted model and preprocessor from pipeline\n",
    "fitted_pipe = grid_search_xgb.best_estimator_\n",
    "model = fitted_pipe.named_steps['classifier']\n",
    "fitted_preprocessor = fitted_pipe.named_steps['preprocess']\n",
    "features = fitted_preprocessor.get_feature_names_out()\n",
    "\n",
    "# Create and plot top 15 feature importances\n",
    "importance_df = pd.DataFrame({'Feature': features, 'Importance': model.feature_importances_}).nlargest(15, 'Importance')\n",
    "importance_df.plot.barh(x='Feature', y='Importance', legend=False, figsize=(10, 6))\n",
    "plt.title('Top 15 Feature Importances - XGBoost')\n",
    "plt.xlabel('Importance Score')\n",
    "plt.gca().invert_yaxis()\n",
    "plt.tight_layout()\n",
    "plt.show()\n"
   ]
  },
  {
   "cell_type": "markdown",
   "id": "fc707e10-85d0-486a-8918-2fd0d2ebf9c4",
   "metadata": {},
   "source": [
    "#### XGBoost Feature Importance Summary\n",
    "\n",
    "Top 15 features ranked by their impact on churn prediction.\n",
    "\n",
    "**Key Drivers:**\n",
    "- `international_plan_yes` – Most predictive; churners often have this plan.\n",
    "- `total_day_charge` – Higher charges may reflect dissatisfaction.\n",
    "- `customer_service_calls` – Frequent calls signal unhappy customers.\n",
    "\n",
    "**Other Influencers:**\n",
    "- Usage metrics (`total_day_minutes`, `intl_calls`, etc.)\n",
    "- Plan and region-related features (`voice_mail_plan`, `area_code`)\n",
    "\n",
    "**Actionable Insight:**  \n",
    "Focus retention strategies on these key behaviors. Use feature insights to guide business decisions and ensure fairness.\n"
   ]
  },
  {
   "cell_type": "markdown",
   "id": "1c700420-169b-49e0-ab0a-2be7817dc5a2",
   "metadata": {},
   "source": [
    "Conclusion\n",
    "The XGBoost classifier demonstrated strong predictive performance, achieving a high ROC-AUC score and maintaining a solid balance between precision and recall—especially for the minority class (churners). Beyond its accuracy, the model offered interpretable insights into customer behavior:\n",
    "\n",
    "Customers on month-to-month contracts, with short tenure, and using electronic check payments were the most likely to churn.\n",
    "Lack of services like tech support or online security also contributed significantly to churn risk.\n",
    "These insights empower the business to implement targeted retention strategies, such as:\n",
    "\n",
    "Incentivizing long-term contracts\n",
    "Enhancing onboarding for new users\n",
    "Promoting service bundles with added value\n",
    "By translating model outputs into actionable business decisions, the company can proactively reduce churn, optimize customer experience, and enhance long-term profitability."
   ]
  },
  {
   "cell_type": "code",
   "execution_count": null,
   "id": "abed3e32-15f2-43a7-8e9b-b2613a424159",
   "metadata": {},
   "outputs": [],
   "source": []
  }
 ],
 "metadata": {
  "kernelspec": {
   "display_name": "Python 3 (ipykernel)",
   "language": "python",
   "name": "python3"
  },
  "language_info": {
   "codemirror_mode": {
    "name": "ipython",
    "version": 3
   },
   "file_extension": ".py",
   "mimetype": "text/x-python",
   "name": "python",
   "nbconvert_exporter": "python",
   "pygments_lexer": "ipython3",
   "version": "3.12.7"
  }
 },
 "nbformat": 4,
 "nbformat_minor": 5
}
